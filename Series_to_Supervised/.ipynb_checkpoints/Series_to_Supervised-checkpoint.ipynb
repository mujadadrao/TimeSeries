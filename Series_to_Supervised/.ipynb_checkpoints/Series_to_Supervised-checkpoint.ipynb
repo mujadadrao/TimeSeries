{
 "cells": [
  {
   "cell_type": "markdown",
   "metadata": {},
   "source": [
    "# Supervised Machine Learning\n",
    "\n",
    "The majority of practical machine learning uses supervised learning.\n",
    "\n",
    "Supervised learning is where you have input variables (X) and an output variable (y) and you use an algorithm to learn the mapping function from the input to the output.\n",
    "\n",
    "Y = f(X)\n",
    "\n",
    "The goal is to approximate the real underlying mapping so well that when you have new input data (X), you can predict the output variables (y) for that data.\n",
    "\n",
    "Below is a contrived example of a supervised learning dataset where each row is an observation comprised of one input variable (X) and one output variable to be predicted (y)."
   ]
  },
  {
   "cell_type": "raw",
   "metadata": {},
   "source": [
    "X, y\n",
    "5, 0.9\n",
    "4, 0.8\n",
    "5, 1.0\n",
    "3, 0.7\n",
    "4, 0.9"
   ]
  },
  {
   "cell_type": "markdown",
   "metadata": {},
   "source": [
    "It is called supervised learning because the process of an algorithm learning from the training dataset can be thought of as a teacher supervising the learning process.\n",
    "\n",
    "We know the correct answers; the algorithm iteratively makes predictions on the training data and is corrected by making updates. Learning stops when the algorithm achieves an acceptable level of performance.\n",
    "\n",
    "Supervised learning problems can be further grouped into regression and classification problems.\n",
    "\n",
    "- Classification: A classification problem is when the output variable is a category, such as “red” and “blue” or “disease” and “no disease.”\n",
    "- Regression: A regression problem is when the output variable is a real value, such as “dollars” or “weight.” The contrived example above is a regression problem.\n"
   ]
  },
  {
   "cell_type": "markdown",
   "metadata": {},
   "source": [
    "# Sliding Window For Time Series Data\n",
    "\n",
    "Time series data can be phrased as supervised learning.\n",
    "\n",
    "Given a sequence of numbers for a time series dataset, we can restructure the data to look like a supervised learning problem. We can do this by using previous time steps as input variables and use the next time step as the output variable.\n",
    "\n",
    "Let’s make this concrete with an example. Imagine we have a time series as follows:"
   ]
  },
  {
   "cell_type": "raw",
   "metadata": {},
   "source": [
    "time, measure\n",
    "1, 100\n",
    "2, 110\n",
    "3, 108\n",
    "4, 115\n",
    "5, 120"
   ]
  },
  {
   "cell_type": "markdown",
   "metadata": {},
   "source": [
    "We can restructure this time series dataset as a supervised learning problem by using the value at the previous time step to predict the value at the next time-step. Re-organizing the time series dataset this way, the data would look as follows:\n",
    "\n"
   ]
  },
  {
   "cell_type": "raw",
   "metadata": {},
   "source": [
    "X, y\n",
    "?, 100\n",
    "100, 110\n",
    "110, 108\n",
    "108, 115\n",
    "115, 120\n",
    "120, ?"
   ]
  },
  {
   "cell_type": "markdown",
   "metadata": {},
   "source": [
    "Take a look at the above transformed dataset and compare it to the original time series. Here are some observations:\n",
    "\n",
    "- We can see that the previous time step is the input (X) and the next time step is the output (y) in our supervised learning problem.\n",
    "- We can see that the order between the observations is preserved, and must continue to be preserved when using this dataset to train a supervised model.\n",
    "- We can see that we have no previous value that we can use to predict the first value in the sequence. We will delete this row as we cannot use it.\n",
    "- We can also see that we do not have a known next value to predict for the last value in the sequence. We may want to delete this value while training our supervised model also.\n",
    "\n",
    "The use of prior time steps to predict the next time step is called the sliding window method. For short, it may be called the window method in some literature. In statistics and time series analysis, this is called a lag or lag method.\n",
    "\n",
    "The number of previous time steps is called the window width or size of the lag.\n",
    "\n",
    "This sliding window is the basis for how we can turn any time series dataset into a supervised learning problem. From this simple example, we can notice a few things:\n",
    "\n",
    "- We can see how this can work to turn a time series into either a regression or a classification supervised learning problem for real-valued or labeled time series values.\n",
    "- We can see how once a time series dataset is prepared this way that any of the standard linear and nonlinear machine learning algorithms may be applied, as long as the order of the rows is preserved.\n",
    "- We can see how the width sliding window can be increased to include more previous time steps.\n",
    "- We can see how the sliding window approach can be used on a time series that has more than one value, or so-called multivariate time series.\n",
    "\n",
    "We will explore some of these uses of the sliding window, starting next with using it to handle time series with more than one observation at each time step, called multivariate time series."
   ]
  },
  {
   "cell_type": "markdown",
   "metadata": {},
   "source": [
    "# Sliding Window With Multivariate Time Series Data\n",
    "\n",
    "The number of observations recorded for a given time in a time series dataset matters.\n",
    "\n",
    "Traditionally, different names are used:\n",
    "\n",
    "- Univariate Time Series: These are datasets where only a single variable is observed at each time, such as temperature each hour. The example in the previous section is a univariate time series dataset.\n",
    "- Multivariate Time Series: These are datasets where two or more variables are observed at each time.\n",
    "\n",
    "Most time series analysis methods, and even books on the topic, focus on univariate data. This is because it is the simplest to understand and work with. Multivariate data is often more difficult to work with. It is harder to model and often many of the classical methods do not perform well.\n",
    "\n",
    "\"Multivariate time series analysis considers simultaneously multiple time series. … It is, in general, much more complicated than univariate time series analysis\"\n",
    "\n",
    "The sweet spot for using machine learning for time series is where classical methods fall down. This may be with complex univariate time series, and is more likely with multivariate time series given the additional complexity.\n",
    "\n",
    "Below is another worked example to make the sliding window method concrete for multivariate time series.\n",
    "\n",
    "Assume we have the contrived multivariate time series dataset below with two observations at each time step. Let’s also assume that we are only concerned with predicting measure2."
   ]
  },
  {
   "cell_type": "raw",
   "metadata": {},
   "source": [
    "time, measure1, measure2\n",
    "1, 0.2, 88\n",
    "2, 0.5, 89\n",
    "3, 0.7, 87\n",
    "4, 0.4, 88\n",
    "5, 1.0, 90"
   ]
  },
  {
   "cell_type": "markdown",
   "metadata": {},
   "source": [
    "We can re-frame this time series dataset as a supervised learning problem with a window width of one.\n",
    "\n",
    "This means that we will use the previous time step values of measure1 and measure2. We will also have available the next time step value for measure1. We will then predict the next time step value of measure2.\n",
    "\n",
    "This will give us 3 input features and one output value to predict for each training pattern."
   ]
  },
  {
   "cell_type": "raw",
   "metadata": {},
   "source": [
    "X1, X2, X3, y\n",
    "?, ?, 0.2 , 88\n",
    "0.2, 88, 0.5, 89\n",
    "0.5, 89, 0.7, 87\n",
    "0.7, 87, 0.4, 88\n",
    "0.4, 88, 1.0, 90\n",
    "1.0, 90, ?, ?"
   ]
  },
  {
   "cell_type": "markdown",
   "metadata": {},
   "source": [
    "We can see that as in the univariate time series example above, we may need to remove the first and last rows in order to train our supervised learning model.\n",
    "\n",
    "This example raises the question of what if we wanted to predict both measure1 and measure2 for the next time step?\n",
    "\n",
    "The sliding window approach can also be used in this case.\n",
    "\n",
    "Using the same time series dataset above, we can phrase it as a supervised learning problem where we predict both measure1 and measure2 with the same window width of one, as follows."
   ]
  },
  {
   "cell_type": "raw",
   "metadata": {},
   "source": [
    "X1, X2, y1, y2\n",
    "?, ?, 0.2, 88\n",
    "0.2, 88, 0.5, 89\n",
    "0.5, 89, 0.7, 87\n",
    "0.7, 87, 0.4, 88\n",
    "0.4, 88, 1.0, 90\n",
    "1.0, 90, ?, ?"
   ]
  },
  {
   "cell_type": "markdown",
   "metadata": {},
   "source": [
    "Not many supervised learning methods can handle the prediction of multiple output values without modification, but some methods, like artificial neural networks, have little trouble.\n",
    "\n",
    "We can think of predicting more than one value as predicting a sequence. In this case, we were predicting two different output variables, but we may want to predict multiple time-steps ahead of one output variable.\n",
    "\n",
    "This is called multi-step forecasting and is covered in the next section."
   ]
  },
  {
   "cell_type": "markdown",
   "metadata": {},
   "source": [
    "# Sliding Window With Multi-Step Forecasting\n",
    "\n",
    "The number of time steps ahead to be forecasted is important.\n",
    "\n",
    "Again, it is traditional to use different names for the problem depending on the number of time-steps to forecast:\n",
    "\n",
    "- One-Step Forecast: This is where the next time step (t+1) is predicted.\n",
    "- Multi-Step Forecast: This is where two or more future time steps are to be predicted.\n",
    "\n",
    "All of the examples we have looked at so far have been one-step forecasts.\n",
    "\n",
    "There are are a number of ways to model multi-step forecasting as a supervised learning problem. We will cover some of these alternate ways in a future post.\n",
    "\n",
    "For now, we are focusing on framing multi-step forecast using the sliding window method.\n",
    "\n",
    "Consider the same univariate time series dataset from the first sliding window example above:"
   ]
  },
  {
   "cell_type": "raw",
   "metadata": {},
   "source": [
    "time, measure\n",
    "1, 100\n",
    "2, 110\n",
    "3, 108\n",
    "4, 115\n",
    "5, 120"
   ]
  },
  {
   "cell_type": "markdown",
   "metadata": {},
   "source": [
    "We can frame this time series as a two-step forecasting dataset for supervised learning with a window width of one, as follows:\n",
    "\n"
   ]
  },
  {
   "cell_type": "raw",
   "metadata": {},
   "source": [
    "X1, y1, y2\n",
    "? 100, 110\n",
    "100, 110, 108\n",
    "110, 108, 115\n",
    "108, 115, 120\n",
    "115, 120, ?\n",
    "120, ?, ?"
   ]
  },
  {
   "cell_type": "markdown",
   "metadata": {},
   "source": [
    "We can see that the first row and the last two rows cannot be used to train a supervised model.\n",
    "\n",
    "It is also a good example to show the burden on the input variables. Specifically, that a supervised model only has X1 to work with in order to predict both y1 and y2.\n",
    "\n",
    "Careful thought and experimentation are needed on your problem to find a window width that results in acceptable model performance."
   ]
  },
  {
   "cell_type": "markdown",
   "metadata": {},
   "source": [
    "# Time Series vs Supervised Learning\n"
   ]
  },
  {
   "cell_type": "markdown",
   "metadata": {},
   "source": [
    "Before we get started, let’s take a moment to better understand the form of time series and supervised learning data.\n",
    "\n",
    "A time series is a sequence of numbers that are ordered by a time index. This can be thought of as a list or column of ordered values.\n",
    "\n",
    "For example:"
   ]
  },
  {
   "cell_type": "raw",
   "metadata": {},
   "source": [
    "0\n",
    "1\n",
    "2\n",
    "3\n",
    "4\n",
    "5\n",
    "6\n",
    "7\n",
    "8\n",
    "9"
   ]
  },
  {
   "cell_type": "markdown",
   "metadata": {},
   "source": [
    "A supervised learning problem is comprised of input patterns (X) and output patterns (y), such that an algorithm can learn how to predict the output patterns from the input patterns.\n",
    "\n",
    "For example:"
   ]
  },
  {
   "cell_type": "raw",
   "metadata": {},
   "source": [
    "X,\ty\n",
    "1,\t2\n",
    "2,\t3\n",
    "3,\t4\n",
    "4,\t5\n",
    "5,\t6\n",
    "6,\t7\n",
    "7,\t8\n",
    "8,\t9"
   ]
  },
  {
   "cell_type": "markdown",
   "metadata": {},
   "source": [
    "# Pandas shift() Function\n",
    "\n",
    "A key function to help transform time series data into a supervised learning problem is the Pandas shift() function.\n",
    "\n",
    "Given a DataFrame, the shift() function can be used to create copies of columns that are pushed forward (rows of NaN values added to the front) or pulled back (rows of NaN values added to the end).\n",
    "\n",
    "This is the behavior required to create columns of lag observations as well as columns of forecast observations for a time series dataset in a supervised learning format.\n",
    "\n",
    "Let’s look at some examples of the shift function in action.\n",
    "\n",
    "We can define a mock time series dataset as a sequence of 10 numbers, in this case a single column in a DataFrame as follows:"
   ]
  },
  {
   "cell_type": "code",
   "execution_count": 1,
   "metadata": {},
   "outputs": [
    {
     "name": "stdout",
     "output_type": "stream",
     "text": [
      "   t\n",
      "0  0\n",
      "1  1\n",
      "2  2\n",
      "3  3\n",
      "4  4\n",
      "5  5\n",
      "6  6\n",
      "7  7\n",
      "8  8\n",
      "9  9\n"
     ]
    }
   ],
   "source": [
    "# hide warnings\n",
    "import warnings\n",
    "warnings.filterwarnings('ignore')\n",
    "\n",
    "from pandas import DataFrame\n",
    "df = DataFrame()\n",
    "df['t'] = [x for x in range(10)]\n",
    "print(df)"
   ]
  },
  {
   "cell_type": "markdown",
   "metadata": {},
   "source": [
    "Running the example prints the time series data with the row indices for each observation.\n",
    "\n",
    "We can shift all the observations down by one time step by inserting one new row at the top. Because the new row has no data, we can use NaN to represent “no data”.\n",
    "\n",
    "The shift function can do this for us and we can insert this shifted column next to our original series."
   ]
  },
  {
   "cell_type": "code",
   "execution_count": 2,
   "metadata": {},
   "outputs": [
    {
     "name": "stdout",
     "output_type": "stream",
     "text": [
      "   t  t-1\n",
      "0  0  NaN\n",
      "1  1  0.0\n",
      "2  2  1.0\n",
      "3  3  2.0\n",
      "4  4  3.0\n",
      "5  5  4.0\n",
      "6  6  5.0\n",
      "7  7  6.0\n",
      "8  8  7.0\n",
      "9  9  8.0\n"
     ]
    }
   ],
   "source": [
    "from pandas import DataFrame\n",
    "df = DataFrame()\n",
    "df['t'] = [x for x in range(10)]\n",
    "df['t-1'] = df['t'].shift(1)\n",
    "print(df)"
   ]
  },
  {
   "cell_type": "markdown",
   "metadata": {},
   "source": [
    "Running the example gives us two columns in the dataset. The first with the original observations and a new shifted column.\n",
    "\n",
    "We can see that shifting the series forward one time step gives us a primitive supervised learning problem, although with X and y in the wrong order. Ignore the column of row labels. The first row would have to be discarded because of the NaN value. The second row shows the input value of 0.0 in the second column (input or X) and the value of 1 in the first column (output or y)."
   ]
  },
  {
   "cell_type": "markdown",
   "metadata": {},
   "source": [
    "We can see that if we can repeat this process with shifts of 2, 3, and more, how we could create long input sequences (X) that can be used to forecast an output value (y).\n",
    "\n",
    "The shift operator can also accept a negative integer value. This has the effect of pulling the observations up by inserting new rows at the end. Below is an example:"
   ]
  },
  {
   "cell_type": "code",
   "execution_count": 3,
   "metadata": {},
   "outputs": [
    {
     "name": "stdout",
     "output_type": "stream",
     "text": [
      "   t  t+1\n",
      "0  0  1.0\n",
      "1  1  2.0\n",
      "2  2  3.0\n",
      "3  3  4.0\n",
      "4  4  5.0\n",
      "5  5  6.0\n",
      "6  6  7.0\n",
      "7  7  8.0\n",
      "8  8  9.0\n",
      "9  9  NaN\n"
     ]
    }
   ],
   "source": [
    "from pandas import DataFrame\n",
    "df = DataFrame()\n",
    "df['t'] = [x for x in range(10)]\n",
    "df['t+1'] = df['t'].shift(-1)\n",
    "print(df)"
   ]
  },
  {
   "cell_type": "markdown",
   "metadata": {},
   "source": [
    "Running the example shows a new column with a NaN value as the last value.\n",
    "\n",
    "We can see that the forecast column can be taken as an input (X) and the second as an output value (y). That is the input value of 0 can be used to forecast the output value of 1."
   ]
  },
  {
   "cell_type": "markdown",
   "metadata": {},
   "source": [
    "Technically, in time series forecasting terminology the current time (t) and future times (t+1, t+n) are forecast times and past observations (t-1, t-n) are used to make forecasts.\n",
    "\n",
    "We can see how positive and negative shifts can be used to create a new DataFrame from a time series with sequences of input and output patterns for a supervised learning problem.\n",
    "\n",
    "This permits not only classical X -> y prediction, but also X -> Y where both input and output can be sequences.\n",
    "\n",
    "Further, the shift function also works on so-called multivariate time series problems. That is where instead of having one set of observations for a time series, we have multiple (e.g. temperature and pressure). All variates in the time series can be shifted forward or backward to create multivariate input and output sequences. We will explore this more later in the tutorial."
   ]
  },
  {
   "cell_type": "markdown",
   "metadata": {},
   "source": [
    "# The series_to_supervised() Function\n",
    "\n",
    "We can use the shift() function in Pandas to automatically create new framings of time series problems given the desired length of input and output sequences.\n",
    "\n",
    "This would be a useful tool as it would allow us to explore different framings of a time series problem with machine learning algorithms to see which might result in better performing models.\n",
    "\n",
    "In this section, we will define a new Python function named series_to_supervised() that takes a univariate or multivariate time series and frames it as a supervised learning dataset.\n",
    "\n",
    "The function takes four arguments:\n",
    "\n",
    "- data: Sequence of observations as a list or 2D NumPy array. Required.\n",
    "- n_in: Number of lag observations as input (X). Values may be between [1..len(data)] Optional. Defaults to 1.\n",
    "- n_out: Number of observations as output (y). Values may be between [0..len(data)-1]. Optional. Defaults to 1.\n",
    "- dropnan: Boolean whether or not to drop rows with NaN values. Optional. Defaults to True.\n",
    "\n",
    "The function returns a single value:\n",
    "\n",
    "- return: Pandas DataFrame of series framed for supervised learning.\n",
    "\n",
    "The new dataset is constructed as a DataFrame, with each column suitably named both by variable number and time step. This allows you to design a variety of different time step sequence type forecasting problems from a given univariate or multivariate time series.\n",
    "\n",
    "Once the DataFrame is returned, you can decide how to split the rows of the returned DataFrame into X and y components for supervised learning any way you wish.\n",
    "\n",
    "The function is defined with default parameters so that if you call it with just your data, it will construct a DataFrame with t-1 as X and t as y.\n",
    "\n",
    "The function is confirmed to be compatible with Python 2 and Python 3.\n",
    "\n",
    "The complete function is listed below, including function comments."
   ]
  },
  {
   "cell_type": "code",
   "execution_count": 4,
   "metadata": {},
   "outputs": [],
   "source": [
    "from pandas import DataFrame\n",
    "from pandas import concat\n",
    "\n",
    "def series_to_supervised(data, n_in=1, n_out=1, dropnan=True):\n",
    "    \"\"\"\n",
    "    Frame a time series as a supervised learning dataset.\n",
    "    Arguments:\n",
    "        data: Sequence of observations as a list or NumPy array.\n",
    "        n_in: Number of lag observations as input (X).\n",
    "        n_out: Number of observations as output (y).\n",
    "        dropnan: Boolean whether or not to drop rows with NaN values.\n",
    "    Returns:\n",
    "        Pandas DataFrame of series framed for supervised learning.\n",
    "    \"\"\"\n",
    "    n_vars = 1 if type(data) is list else data.shape[1]\n",
    "    df = DataFrame(data)\n",
    "    cols, names = list(), list()\n",
    "    # input sequence (t-n, ... t-1)\n",
    "    for i in range(n_in, 0, -1):\n",
    "        cols.append(df.shift(i))\n",
    "        names += [('var%d(t-%d)' % (j+1, i)) for j in range(n_vars)]\n",
    "    # forecast sequence (t, t+1, ... t+n)\n",
    "    for i in range(0, n_out):\n",
    "        cols.append(df.shift(-i))\n",
    "        if i == 0:\n",
    "            names += [('var%d(t)' % (j+1)) for j in range(n_vars)]\n",
    "        else:\n",
    "            names += [('var%d(t+%d)' % (j+1, i)) for j in range(n_vars)]\n",
    "    # put it all together\n",
    "    agg = concat(cols, axis=1)\n",
    "    agg.columns = names\n",
    "    # drop rows with NaN values\n",
    "    if dropnan:\n",
    "        agg.dropna(inplace=True)\n",
    "    return agg"
   ]
  },
  {
   "cell_type": "markdown",
   "metadata": {},
   "source": [
    "# One-Step Univariate Forecasting\n",
    "\n",
    "It is standard practice in time series forecasting to use lagged observations (e.g. t-1) as input variables to forecast the current time step (t).\n",
    "\n",
    "This is called one-step forecasting.\n",
    "\n",
    "The example below demonstrates a one lag time step (t-1) to predict the current time step (t)."
   ]
  },
  {
   "cell_type": "code",
   "execution_count": 5,
   "metadata": {},
   "outputs": [
    {
     "name": "stdout",
     "output_type": "stream",
     "text": [
      "   var1(t-1)  var1(t)\n",
      "1        0.0        1\n",
      "2        1.0        2\n",
      "3        2.0        3\n",
      "4        3.0        4\n",
      "5        4.0        5\n",
      "6        5.0        6\n",
      "7        6.0        7\n",
      "8        7.0        8\n",
      "9        8.0        9\n"
     ]
    }
   ],
   "source": [
    "from pandas import DataFrame\n",
    "from pandas import concat\n",
    "\n",
    "values = [x for x in range(10)]\n",
    "data = series_to_supervised(values)\n",
    "print(data)"
   ]
  },
  {
   "cell_type": "markdown",
   "metadata": {},
   "source": [
    "Running the example prints the output of the reframed time series.\n",
    "\n",
    "We can see that the observations are named “var1” and that the input observation is suitably named (t-1) and the output time step is named (t).\n",
    "\n",
    "We can also see that rows with NaN values have been automatically removed from the DataFrame.\n",
    "\n",
    "We can repeat this example with an arbitrary number length input sequence, such as 3. This can be done by specifying the length of the input sequence as an argument; for example:"
   ]
  },
  {
   "cell_type": "code",
   "execution_count": 6,
   "metadata": {},
   "outputs": [
    {
     "name": "stdout",
     "output_type": "stream",
     "text": [
      "   var1(t-3)  var1(t-2)  var1(t-1)  var1(t)\n",
      "3        0.0        1.0        2.0        3\n",
      "4        1.0        2.0        3.0        4\n",
      "5        2.0        3.0        4.0        5\n",
      "6        3.0        4.0        5.0        6\n",
      "7        4.0        5.0        6.0        7\n",
      "8        5.0        6.0        7.0        8\n",
      "9        6.0        7.0        8.0        9\n"
     ]
    }
   ],
   "source": [
    "from pandas import DataFrame\n",
    "from pandas import concat\n",
    "\n",
    "values = [x for x in range(10)]\n",
    "data = series_to_supervised(values, 3)\n",
    "print(data)"
   ]
  },
  {
   "cell_type": "markdown",
   "metadata": {},
   "source": [
    "Again, running the example prints the reframed series. We can see that the input sequence is in the correct left-to-right order with the output variable to be predicted on the far right.\n",
    "\n"
   ]
  },
  {
   "cell_type": "markdown",
   "metadata": {},
   "source": [
    "# Multi-Step or Sequence Forecasting\n",
    "A different type of forecasting problem is using past observations to forecast a sequence of future observations.\n",
    "\n",
    "This may be called sequence forecasting or multi-step forecasting.\n",
    "\n",
    "We can frame a time series for sequence forecasting by specifying another argument. For example, we could frame a forecast problem with an input sequence of 2 past observations to forecast 2 future observations as follows:"
   ]
  },
  {
   "cell_type": "code",
   "execution_count": 7,
   "metadata": {},
   "outputs": [
    {
     "name": "stdout",
     "output_type": "stream",
     "text": [
      "   var1(t-2)  var1(t-1)  var1(t)  var1(t+1)\n",
      "2        0.0        1.0        2        3.0\n",
      "3        1.0        2.0        3        4.0\n",
      "4        2.0        3.0        4        5.0\n",
      "5        3.0        4.0        5        6.0\n",
      "6        4.0        5.0        6        7.0\n",
      "7        5.0        6.0        7        8.0\n",
      "8        6.0        7.0        8        9.0\n"
     ]
    }
   ],
   "source": [
    "from pandas import DataFrame\n",
    "from pandas import concat\n",
    "\n",
    "values = [x for x in range(10)]\n",
    "data = series_to_supervised(values, 2, 2)\n",
    "print(data)"
   ]
  },
  {
   "cell_type": "markdown",
   "metadata": {},
   "source": [
    "Running the example shows the differentiation of input (t-n) and output (t+n) variables with the current observation (t) considered an output.\n",
    "\n"
   ]
  },
  {
   "cell_type": "markdown",
   "metadata": {},
   "source": [
    "# Multivariate Forecasting\n",
    "\n",
    "Another important type of time series is called multivariate time series.\n",
    "\n",
    "This is where we may have observations of multiple different measures and an interest in forecasting one or more of them.\n",
    "\n",
    "For example, we may have two sets of time series observations obs1 and obs2 and we wish to forecast one or both of these.\n",
    "\n",
    "We can call series_to_supervised() in exactly the same way.\n",
    "\n",
    "For example:"
   ]
  },
  {
   "cell_type": "code",
   "execution_count": 8,
   "metadata": {},
   "outputs": [
    {
     "name": "stdout",
     "output_type": "stream",
     "text": [
      "   var1(t-1)  var2(t-1)  var1(t)  var2(t)\n",
      "1        0.0       50.0        1       51\n",
      "2        1.0       51.0        2       52\n",
      "3        2.0       52.0        3       53\n",
      "4        3.0       53.0        4       54\n",
      "5        4.0       54.0        5       55\n",
      "6        5.0       55.0        6       56\n",
      "7        6.0       56.0        7       57\n",
      "8        7.0       57.0        8       58\n",
      "9        8.0       58.0        9       59\n"
     ]
    }
   ],
   "source": [
    "from pandas import DataFrame\n",
    "\n",
    "raw = DataFrame()\n",
    "raw['ob1'] = [x for x in range(10)]\n",
    "raw['ob2'] = [x for x in range(50, 60)]\n",
    "values = raw.values\n",
    "data = series_to_supervised(values)\n",
    "print(data)"
   ]
  },
  {
   "cell_type": "markdown",
   "metadata": {},
   "source": [
    "Running the example prints the new framing of the data, showing an input pattern with one time step for both variables and an output pattern of one time step for both variables.\n",
    "\n",
    "Again, depending on the specifics of the problem, the division of columns into X and Y components can be chosen arbitrarily, such as if the current observation of var1 was also provided as input and only var2 was to be predicted."
   ]
  },
  {
   "cell_type": "markdown",
   "metadata": {},
   "source": [
    "You can see how this may be easily used for sequence forecasting with multivariate time series by specifying the length of the input and output sequences as above.\n",
    "\n",
    "For example, below is an example of a reframing with 1 time step as input and 2 time steps as forecast sequence."
   ]
  },
  {
   "cell_type": "code",
   "execution_count": 9,
   "metadata": {},
   "outputs": [
    {
     "name": "stdout",
     "output_type": "stream",
     "text": [
      "   var1(t-1)  var2(t-1)  var1(t)  var2(t)  var1(t+1)  var2(t+1)\n",
      "1        0.0       50.0        1       51        2.0       52.0\n",
      "2        1.0       51.0        2       52        3.0       53.0\n",
      "3        2.0       52.0        3       53        4.0       54.0\n",
      "4        3.0       53.0        4       54        5.0       55.0\n",
      "5        4.0       54.0        5       55        6.0       56.0\n",
      "6        5.0       55.0        6       56        7.0       57.0\n",
      "7        6.0       56.0        7       57        8.0       58.0\n",
      "8        7.0       57.0        8       58        9.0       59.0\n"
     ]
    }
   ],
   "source": [
    "from pandas import DataFrame\n",
    "\n",
    "raw = DataFrame()\n",
    "raw['ob1'] = [x for x in range(10)]\n",
    "raw['ob2'] = [x for x in range(50, 60)]\n",
    "values = raw.values\n",
    "data = series_to_supervised(values, 1, 2)\n",
    "print(data)"
   ]
  },
  {
   "cell_type": "markdown",
   "metadata": {},
   "source": [
    "Running the example shows the large reframed DataFrame.\n",
    "\n",
    "Experiment with your own dataset and try multiple different framings to see what works best.\n"
   ]
  },
  {
   "cell_type": "markdown",
   "metadata": {},
   "source": [
    "# Summary\n",
    "\n",
    "In this tutorial, you discovered how to reframe time series datasets as supervised learning problems with Python.\n",
    "\n",
    "Specifically, you learned:\n",
    "\n",
    "- About the Pandas shift() function and how it can be used to automatically define supervised learning datasets from time series data.\n",
    "- How to reframe a univariate time series into one-step and multi-step supervised learning problems.\n",
    "- How to reframe multivariate time series into one-step and multi-step supervised learning problems."
   ]
  }
 ],
 "metadata": {
  "kernelspec": {
   "display_name": "Python 3",
   "language": "python",
   "name": "python3"
  },
  "language_info": {
   "codemirror_mode": {
    "name": "ipython",
    "version": 3
   },
   "file_extension": ".py",
   "mimetype": "text/x-python",
   "name": "python",
   "nbconvert_exporter": "python",
   "pygments_lexer": "ipython3",
   "version": "3.5.2"
  }
 },
 "nbformat": 4,
 "nbformat_minor": 2
}
