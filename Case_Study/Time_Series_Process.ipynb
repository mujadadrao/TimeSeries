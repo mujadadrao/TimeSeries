{
 "cells": [
  {
   "cell_type": "markdown",
   "metadata": {},
   "source": [
    "# 1. Setting Environment"
   ]
  },
  {
   "cell_type": "code",
   "execution_count": 1,
   "metadata": {},
   "outputs": [
    {
     "name": "stdout",
     "output_type": "stream",
     "text": [
      "scipy: 1.1.0\n",
      "numpy: 1.15.0\n",
      "matplotlib: 2.2.2\n",
      "pandas: 0.23.4\n",
      "sklearn: 0.19.2\n",
      "statsmodels: 0.9.0\n"
     ]
    }
   ],
   "source": [
    "# hide warnings\n",
    "import warnings\n",
    "warnings.filterwarnings('ignore')\n",
    "# scipy\n",
    "import scipy\n",
    "print('scipy: %s' % scipy.__version__)\n",
    "# numpy\n",
    "import numpy\n",
    "print('numpy: %s' % numpy.__version__)\n",
    "# matplotlib\n",
    "import matplotlib\n",
    "print('matplotlib: %s' % matplotlib.__version__)\n",
    "# pandas\n",
    "import pandas\n",
    "print('pandas: %s' % pandas.__version__)\n",
    "# scikit-learn\n",
    "import sklearn\n",
    "print('sklearn: %s' % sklearn.__version__)\n",
    "# statsmodels\n",
    "import statsmodels\n",
    "print('statsmodels: %s' % statsmodels.__version__)"
   ]
  },
  {
   "cell_type": "markdown",
   "metadata": {},
   "source": [
    "# 2. Problem Description\n"
   ]
  },
  {
   "cell_type": "markdown",
   "metadata": {},
   "source": [
    "The problem is to predict annual water usage.\n",
    "\n",
    "The dataset provides the annual water usage in Baltimore from 1885 to 1963, or 79 years of data.\n",
    "\n",
    "The values are in the units of liters per capita per day, and there are 79 observations.\n",
    "\n",
    "The dataset is credited to Hipel and McLeod, 1994."
   ]
  },
  {
   "cell_type": "markdown",
   "metadata": {},
   "source": [
    "# 3. Test Harness\n",
    "\n",
    "We must develop a test harness to investigate the data and evaluate candidate models.\n",
    "\n",
    "This involves two steps:\n",
    "\n",
    "Defining a Validation Dataset.\n",
    "Developing a Method for Model Evaluation."
   ]
  },
  {
   "cell_type": "markdown",
   "metadata": {},
   "source": [
    "## 3.1 Validation Dataset\n",
    "\n",
    "The dataset is not current. This means that we cannot easily collect updated data to validate the model.\n",
    "\n",
    "Therefore, we will pretend that it is 1953 and withhold the last 10 years of data from analysis and model selection.\n",
    "\n",
    "This final decade of data will be used to validate the final model.\n",
    "\n",
    "The code below will load the dataset as a Pandas Series and split into two, one for model development (dataset.csv) and the other for validation (validation.csv)."
   ]
  },
  {
   "cell_type": "code",
   "execution_count": 2,
   "metadata": {},
   "outputs": [
    {
     "name": "stdout",
     "output_type": "stream",
     "text": [
      "Dataset 69, Validation 10\n"
     ]
    }
   ],
   "source": [
    "from pandas import Series\n",
    "series = Series.from_csv('water.csv', header=0)\n",
    "split_point = len(series) - 10\n",
    "dataset, validation = series[0:split_point], series[split_point:]\n",
    "print('Dataset %d, Validation %d' % (len(dataset), len(validation)))\n",
    "dataset.to_csv('dataset.csv')\n",
    "validation.to_csv('validation.csv')"
   ]
  },
  {
   "cell_type": "markdown",
   "metadata": {},
   "source": [
    "The specific contents of these files are:\n",
    "\n",
    "- dataset.csv: Observations from 1885 to 1953 (69 observations).\n",
    "- validation.csv: Observations from 1954 to 1963 (10 observations).\n",
    "\n",
    "The validation dataset is about 12% of the original dataset."
   ]
  },
  {
   "cell_type": "markdown",
   "metadata": {},
   "source": [
    "## 3.2 Model Evaluation\n",
    "\n",
    "Model evaluation involves two elements:\n",
    "\n",
    "Performance Measure.\n",
    "Test Strategy.\n",
    "\n",
    "### 3.2.1 Performance Measure\n",
    "\n",
    "We will evaluate the performance of predictions using the root mean squared error (RMSE). This will give more weight to predictions that are grossly wrong and will have the same units as the original data.\n",
    "\n",
    "Any transforms to the data must be reversed before the RMSE is calculated and reported to make the performance between different methods directly comparable.\n",
    "\n",
    "We can calculate the RMSE using the helper function from the scikit-learn library mean_squared_error() that calculates the mean squared error between a list of expected values (the test set) and the list of predictions. We can then take the square root of this value to give us a RMSE score."
   ]
  },
  {
   "cell_type": "markdown",
   "metadata": {},
   "source": [
    "### 3.2.2 Test Strategy\n",
    "\n",
    "Candidate models will be evaluated using walk-forward validation.\n",
    "\n",
    "This is because a rolling-forecast type model is required from the problem definition. This is where one-step forecasts are needed given all available data.\n",
    "\n",
    "The walk-forward validation will work as follows:\n",
    "\n",
    "- The first 50% of the dataset will be held back to train the model.\n",
    "- The remaining 50% of the dataset will be iterated and test the model.\n",
    "- For each step in the test dataset:\n",
    "    - A model will be trained.\n",
    "    - A one-step prediction made and the prediction stored for later evaluation.\n",
    "    - The actual observation from the test dataset will be added to the training dataset for the next iteration.\n",
    "- The predictions made during the enumeration of the test dataset will be evaluated and an RMSE score reported.\n",
    "\n",
    "Given the small size of the data, we will allow a model to be re-trained given all available data prior to each prediction.\n",
    "\n",
    "We can write the code for the test harness using simple NumPy and Python code.\n",
    "\n",
    "Firstly, we can split the dataset into train and test sets directly. We’re careful to always convert a loaded dataset to float32 in case the loaded data still has some String or Integer data types."
   ]
  },
  {
   "cell_type": "code",
   "execution_count": 3,
   "metadata": {},
   "outputs": [],
   "source": [
    "# prepare data\n",
    "X = series.values\n",
    "X = X.astype('float32')\n",
    "train_size = int(len(X) * 0.50)\n",
    "train, test = X[0:train_size], X[train_size:]"
   ]
  },
  {
   "cell_type": "markdown",
   "metadata": {},
   "source": [
    "Next, we can iterate over the time steps in the test dataset. The train dataset is stored in a Python list as we need to easily append a new observation each iteration and NumPy array concatenation feels like overkill.\n",
    "\n",
    "The prediction made by the model is called yhat for convention, as the outcome or observation is referred to as y and yhat (a ‘y‘ with a mark above) is the mathematical notation for the prediction of the y variable.\n",
    "\n",
    "The prediction and observation are printed each observation for a sanity check prediction in case there are issues with the model."
   ]
  },
  {
   "cell_type": "markdown",
   "metadata": {},
   "source": [
    "# 4. Persistence\n",
    "\n",
    "The first step before getting bogged down in data analysis and modeling is to establish a baseline of performance.\n",
    "\n",
    "This will provide both a template for evaluating models using the proposed test harness and a performance measure by which all more elaborate predictive models can be compared.\n",
    "\n",
    "The baseline prediction for time series forecasting is called the naive forecast, or persistence.\n",
    "\n",
    "This is where the observation from the previous time step is used as the prediction for the observation at the next time step.\n",
    "\n",
    "We can plug this directly into the test harness defined in the previous section.\n",
    "\n",
    "The complete code listing is provided below.\n",
    "\n"
   ]
  },
  {
   "cell_type": "code",
   "execution_count": 4,
   "metadata": {},
   "outputs": [
    {
     "name": "stdout",
     "output_type": "stream",
     "text": [
      ">Predicted=503.000, Expected=503\n",
      ">Predicted=503.000, Expected=503\n",
      ">Predicted=503.000, Expected=515\n",
      ">Predicted=515.000, Expected=522\n",
      ">Predicted=522.000, Expected=492\n",
      ">Predicted=492.000, Expected=503\n",
      ">Predicted=503.000, Expected=503\n",
      ">Predicted=503.000, Expected=450\n",
      ">Predicted=450.000, Expected=432\n",
      ">Predicted=432.000, Expected=432\n",
      ">Predicted=432.000, Expected=458\n",
      ">Predicted=458.000, Expected=462\n",
      ">Predicted=462.000, Expected=503\n",
      ">Predicted=503.000, Expected=488\n",
      ">Predicted=488.000, Expected=466\n",
      ">Predicted=466.000, Expected=492\n",
      ">Predicted=492.000, Expected=503\n",
      ">Predicted=503.000, Expected=515\n",
      ">Predicted=515.000, Expected=500\n",
      ">Predicted=500.000, Expected=522\n",
      ">Predicted=522.000, Expected=575\n",
      ">Predicted=575.000, Expected=583\n",
      ">Predicted=583.000, Expected=587\n",
      ">Predicted=587.000, Expected=628\n",
      ">Predicted=628.000, Expected=640\n",
      ">Predicted=640.000, Expected=609\n",
      ">Predicted=609.000, Expected=606\n",
      ">Predicted=606.000, Expected=632\n",
      ">Predicted=632.000, Expected=617\n",
      ">Predicted=617.000, Expected=613\n",
      ">Predicted=613.000, Expected=598\n",
      ">Predicted=598.000, Expected=575\n",
      ">Predicted=575.000, Expected=564\n",
      ">Predicted=564.000, Expected=549\n",
      ">Predicted=549.000, Expected=538\n",
      "RMSE: 21.975\n"
     ]
    }
   ],
   "source": [
    "from pandas import Series\n",
    "from sklearn.metrics import mean_squared_error\n",
    "from math import sqrt\n",
    "# load data\n",
    "series = Series.from_csv('dataset.csv')\n",
    "# prepare data\n",
    "X = series.values\n",
    "X = X.astype('float32')\n",
    "train_size = int(len(X) * 0.50)\n",
    "train, test = X[0:train_size], X[train_size:]\n",
    "# walk-forward validation\n",
    "history = [x for x in train]\n",
    "predictions = list()\n",
    "for i in range(len(test)):\n",
    "    # predict\n",
    "    yhat = history[-1]\n",
    "    predictions.append(yhat)\n",
    "    # observation\n",
    "    obs = test[i]\n",
    "    history.append(obs)\n",
    "    print('>Predicted=%.3f, Expected=%3.f' % (yhat, obs))\n",
    "# report performance\n",
    "mse = mean_squared_error(test, predictions)\n",
    "rmse = sqrt(mse)\n",
    "print('RMSE: %.3f' % rmse)"
   ]
  },
  {
   "cell_type": "markdown",
   "metadata": {},
   "source": [
    "# 5. Data Analysis\n",
    "\n",
    "We can use summary statistics and plots of the data to quickly learn more about the structure of the prediction problem.\n",
    "\n",
    "In this section, we will look at the data from four perspectives:\n",
    "\n",
    "1. Summary Statistics.\n",
    "2. Line Plot.\n",
    "3. Density Plots.\n",
    "4. Box and Whisker Plot."
   ]
  },
  {
   "cell_type": "markdown",
   "metadata": {},
   "source": [
    "## 5.1 Summary Statistics\n",
    "Summary statistics provide a quick look at the limits of observed values. It can help to get a quick idea of what we are working with.\n",
    "\n",
    "The example below calculates and prints summary statistics for the time series."
   ]
  },
  {
   "cell_type": "code",
   "execution_count": 5,
   "metadata": {},
   "outputs": [
    {
     "name": "stdout",
     "output_type": "stream",
     "text": [
      "count     69.000000\n",
      "mean     500.478261\n",
      "std       73.901685\n",
      "min      344.000000\n",
      "25%      458.000000\n",
      "50%      492.000000\n",
      "75%      538.000000\n",
      "max      662.000000\n",
      "dtype: float64\n"
     ]
    }
   ],
   "source": [
    "from pandas import Series\n",
    "series = Series.from_csv('dataset.csv')\n",
    "print(series.describe())"
   ]
  },
  {
   "cell_type": "markdown",
   "metadata": {},
   "source": [
    "Running the example provides a number of summary statistics to review.\n",
    "\n",
    "Some observations from these statistics include:\n",
    "\n",
    "- The number of observations (count) matches our expectation, meaning we are handling the data correctly.\n",
    "- The mean is about 500, which we might consider our level in this series.\n",
    "- The standard deviation and percentiles suggest a reasonably tight spread around the mean."
   ]
  },
  {
   "cell_type": "markdown",
   "metadata": {},
   "source": [
    "## 5.2 Line Plot\n",
    "A line plot of a time series dataset can provide a lot of insight into the problem.\n",
    "\n",
    "The example below creates and shows a line plot of the dataset."
   ]
  },
  {
   "cell_type": "code",
   "execution_count": 6,
   "metadata": {},
   "outputs": [
    {
     "data": {
      "text/plain": [
       "<Figure size 640x480 with 1 Axes>"
      ]
     },
     "metadata": {},
     "output_type": "display_data"
    }
   ],
   "source": [
    "from pandas import Series\n",
    "from matplotlib import pyplot\n",
    "series = Series.from_csv('dataset.csv')\n",
    "series.plot()\n",
    "pyplot.show()"
   ]
  },
  {
   "cell_type": "markdown",
   "metadata": {},
   "source": [
    "<img src=\"LinePlot.png\">"
   ]
  },
  {
   "cell_type": "markdown",
   "metadata": {},
   "source": [
    "Some observations from the plot include:\n",
    "\n",
    "- There looks to be an increasing trend in water usage over time.\n",
    "- There do not appear to be any obvious outliers, although there are some large fluctuations.\n",
    "- There is a downward trend for the last few years of the series\n",
    "\n",
    "There may be some benefit in explicitly modeling the trend component and removing it. You may also explore using differencing with one or two levels in order to make the series stationary.\n",
    "\n"
   ]
  },
  {
   "cell_type": "markdown",
   "metadata": {},
   "source": [
    "## 5.3 Density Plot\n",
    "Reviewing plots of the density of observations can provide further insight into the structure of the data.\n",
    "\n",
    "The example below creates a histogram and density plot of the observations without any temporal structure."
   ]
  },
  {
   "cell_type": "code",
   "execution_count": 7,
   "metadata": {},
   "outputs": [
    {
     "data": {
      "image/png": "[encoded data removed]",
      "text/plain": [
       "<Figure size 432x288 with 2 Axes>"
      ]
     },
     "metadata": {},
     "output_type": "display_data"
    }
   ],
   "source": [
    "from pandas import Series\n",
    "from matplotlib import pyplot\n",
    "series = Series.from_csv('dataset.csv')\n",
    "pyplot.figure(1)\n",
    "pyplot.subplot(211)\n",
    "series.hist()\n",
    "pyplot.subplot(212)\n",
    "series.plot(kind='kde')\n",
    "pyplot.show()"
   ]
  },
  {
   "cell_type": "markdown",
   "metadata": {},
   "source": [
    "Run the example and review the plots.\n",
    "\n",
    "Some observations from the plots include:\n",
    "\n",
    "- The distribution is not Gaussian, but is pretty close.\n",
    "- The distribution has a long right tail and may suggest an exponential distribution or a double Gaussian.\n",
    "\n",
    "This suggests it may be worth exploring some power transforms of the data prior to modeling.\n"
   ]
  },
  {
   "cell_type": "markdown",
   "metadata": {},
   "source": [
    "## 5.4 Box and Whisker Plots\n",
    "We can group the annual data by decade and get an idea of the spread of observations for each decade and how this may be changing.\n",
    "\n",
    "We do expect to see some trend (increasing mean or median), but it may be interesting to see how the rest of the distribution may be changing.\n",
    "\n",
    "The example below groups the observations by decade and creates one box and whisker plot for each decade of observations. The last decade only contains 9 years and may not be a useful comparison with the other decades. Therefore only data between 1885 and 1944 was plotted."
   ]
  },
  {
   "cell_type": "code",
   "execution_count": 8,
   "metadata": {},
   "outputs": [],
   "source": [
    "from pandas import Series\n",
    "from pandas import DataFrame\n",
    "from pandas import TimeGrouper\n",
    "from matplotlib import pyplot\n",
    "series = Series.from_csv('dataset.csv')\n",
    "groups = series['1885':'1944'].groupby(TimeGrouper('10AS'))\n",
    "decades = DataFrame()"
   ]
  },
  {
   "cell_type": "markdown",
   "metadata": {},
   "source": [
    "<img src=\"Box_Plot.png\">"
   ]
  },
  {
   "cell_type": "markdown",
   "metadata": {},
   "source": [
    "Running the example creates 6 box and whisker plots side-by-side, one for the 6 decades of selected data.\n",
    "\n",
    "Some observations from reviewing the plot include:\n",
    "\n",
    "- The median values for each year (red line) may show an increasing trend that may not be linear.\n",
    "- The spread, or middle 50% of the data (blue boxes), does show some variability.\n",
    "- There maybe outliers in some decades (crosses outside of the box and whiskers).\n",
    "- The second to last decade seems to have a lower average consumption, perhaps related to the first world war.\n",
    "\n",
    "This yearly view of the data is an interesting avenue and could be pursued further by looking at summary statistics from decade-to-decade and changes in summary statistics.\n",
    "\n"
   ]
  },
  {
   "cell_type": "markdown",
   "metadata": {},
   "source": [
    "# 6. ARIMA Models\n",
    "\n",
    "In this section, we will develop Autoregressive Integrated Moving Average or ARIMA models for the problem.\n",
    "\n",
    "We will approach modeling by both manual and automatic configuration of the ARIMA model. This will be followed by a third step of investigating the residual errors of the chosen model.\n",
    "\n",
    "As such, this section is broken down into 3 steps:\n",
    "\n",
    "- Manually Configure the ARIMA.\n",
    "- Automatically Configure the ARIMA.\n",
    "- Review Residual Errors.\n"
   ]
  },
  {
   "cell_type": "markdown",
   "metadata": {},
   "source": [
    "## 6.1 Manually Configured ARIMA\n",
    "The ARIMA(p,d,q) model requires three parameters and is traditionally configured manually.\n",
    "\n",
    "Analysis of the time series data assumes that we are working with a stationary time series.\n",
    "\n",
    "The time series is likely non-stationary. We can make it stationary by first differencing the series and using a statistical test to confirm that the result is stationary.\n",
    "\n",
    "The example below creates a stationary version of the series and saves it to file stationary.csv."
   ]
  },
  {
   "cell_type": "code",
   "execution_count": 9,
   "metadata": {},
   "outputs": [
    {
     "name": "stdout",
     "output_type": "stream",
     "text": [
      "ADF Statistic: -6.126719\n",
      "p-value: 0.000000\n",
      "Critical Values:\n",
      "\t1%: -3.534\n",
      "\t10%: -2.591\n",
      "\t5%: -2.906\n"
     ]
    },
    {
     "data": {
      "image/png": "[encoded data removed]",
      "text/plain": [
       "<Figure size 432x288 with 1 Axes>"
      ]
     },
     "metadata": {},
     "output_type": "display_data"
    }
   ],
   "source": [
    "from pandas import Series\n",
    "from statsmodels.tsa.stattools import adfuller\n",
    "from matplotlib import pyplot\n",
    "\n",
    "# create a differe\n",
    "def difference(dataset):\n",
    "    diff = list()\n",
    "    for i in range(1, len(dataset)):\n",
    "        value = dataset[i] - dataset[i - 1]\n",
    "        diff.append(value)\n",
    "    return Series(diff)\n",
    "\n",
    "series = Series.from_csv('dataset.csv')\n",
    "X = series.values\n",
    "X = X.astype('float32')\n",
    "# difference data\n",
    "stationary = difference(X)\n",
    "stationary.index = series.index[1:]\n",
    "# check if stationary\n",
    "result = adfuller(stationary)\n",
    "print('ADF Statistic: %f' % result[0])\n",
    "print('p-value: %f' % result[1])\n",
    "print('Critical Values:')\n",
    "for key, value in result[4].items():\n",
    "    print('\\t%s: %.3f' % (key, value))\n",
    "# plot differenced data\n",
    "stationary.plot()\n",
    "pyplot.show()\n",
    "# save\n",
    "stationary.to_csv('stationary.csv')"
   ]
  },
  {
   "cell_type": "markdown",
   "metadata": {},
   "source": [
    "Running the example outputs the result of a statistical significance test of whether the differenced series is stationary. Specifically, the augmented Dickey-Fuller test.\n",
    "\n",
    "The results show that the test statistic value -6.126719 is smaller than the critical value at 1% of -3.534. This suggests that we can reject the null hypothesis with a significance level of less than 1% (i.e. a low probability that the result is a statistical fluke).\n",
    "\n",
    "Rejecting the null hypothesis means that the process has no unit root, and in turn that the time series is stationary or does not have time-dependent structure.\n",
    "\n",
    "This suggests that at least one level of differencing is required. The d parameter in our ARIMA model should at least be a value of 1.\n",
    "\n",
    "A plot of the differenced data is also created. It suggests that this has indeed removed the increasing trend."
   ]
  },
  {
   "cell_type": "markdown",
   "metadata": {},
   "source": [
    "The next first step is to select the lag values for the Autoregression (AR) and Moving Average (MA) parameters, p and q respectively.\n",
    "\n",
    "We can do this by reviewing Autocorrelation Function (ACF) and Partial Autocorrelation Function (PACF) plots.\n",
    "\n",
    "The example below creates ACF and PACF plots for the series."
   ]
  },
  {
   "cell_type": "code",
   "execution_count": 10,
   "metadata": {},
   "outputs": [
    {
     "data": {
      "text/plain": [
       "<matplotlib.axes._subplots.AxesSubplot at 0x7f95b13eecc0>"
      ]
     },
     "execution_count": 10,
     "metadata": {},
     "output_type": "execute_result"
    },
    {
     "data": {
      "image/png": "[encoded data removed]",
      "text/plain": [
       "<Figure size 432x288 with 1 Axes>"
      ]
     },
     "metadata": {},
     "output_type": "display_data"
    }
   ],
   "source": [
    "from pandas import Series\n",
    "from pandas.tools.plotting import autocorrelation_plot\n",
    "from statsmodels.graphics.tsaplots import plot_pacf\n",
    "from matplotlib import pyplot\n",
    "\n",
    "series = Series.from_csv('dataset.csv')\n",
    "autocorrelation_plot(series)"
   ]
  },
  {
   "cell_type": "code",
   "execution_count": 11,
   "metadata": {},
   "outputs": [
    {
     "data": {
      "image/png": "[encoded data removed]",
      "text/plain": [
       "<Figure size 432x288 with 1 Axes>"
      ]
     },
     "metadata": {},
     "output_type": "display_data"
    }
   ],
   "source": [
    "plot_pacf(series, ax=pyplot.gca())\n",
    "pyplot.show()"
   ]
  },
  {
   "cell_type": "markdown",
   "metadata": {},
   "source": [
    "Run the example and review the plots for insights into how to set the p and q variables for the ARIMA model.\n",
    "\n",
    "Below are some observations from the plots.\n",
    "\n",
    "- The ACF shows no significant lags.\n",
    "- The PACF also shows no significant lags.\n",
    "\n",
    "A good starting point for the p and q values is also 0.\n",
    "\n",
    "This quick analysis suggests an ARIMA(0,1,0) on the raw data may be a good starting point.\n",
    "\n",
    "This is in fact a persistence model. The complete example is listed below."
   ]
  },
  {
   "cell_type": "code",
   "execution_count": 12,
   "metadata": {},
   "outputs": [
    {
     "name": "stdout",
     "output_type": "stream",
     "text": [
      ">Predicted=507.455, Expected=503\n",
      ">Predicted=507.324, Expected=503\n",
      ">Predicted=507.200, Expected=515\n",
      ">Predicted=519.417, Expected=522\n",
      ">Predicted=526.486, Expected=492\n",
      ">Predicted=495.579, Expected=503\n",
      ">Predicted=506.769, Expected=503\n",
      ">Predicted=506.675, Expected=450\n",
      ">Predicted=452.293, Expected=432\n",
      ">Predicted=433.810, Expected=432\n",
      ">Predicted=433.767, Expected=458\n",
      ">Predicted=460.318, Expected=462\n",
      ">Predicted=464.356, Expected=503\n",
      ">Predicted=506.196, Expected=488\n",
      ">Predicted=490.809, Expected=466\n",
      ">Predicted=468.292, Expected=492\n",
      ">Predicted=494.776, Expected=503\n",
      ">Predicted=505.940, Expected=515\n",
      ">Predicted=518.118, Expected=500\n",
      ">Predicted=502.769, Expected=522\n",
      ">Predicted=525.132, Expected=575\n",
      ">Predicted=579.056, Expected=583\n",
      ">Predicted=587.127, Expected=587\n",
      ">Predicted=591.125, Expected=628\n",
      ">Predicted=632.772, Expected=640\n",
      ">Predicted=644.897, Expected=609\n",
      ">Predicted=613.288, Expected=606\n",
      ">Predicted=610.167, Expected=632\n",
      ">Predicted=636.525, Expected=617\n",
      ">Predicted=621.210, Expected=613\n",
      ">Predicted=617.079, Expected=598\n",
      ">Predicted=601.781, Expected=575\n",
      ">Predicted=578.369, Expected=564\n",
      ">Predicted=567.152, Expected=549\n",
      ">Predicted=551.881, Expected=538\n",
      "RMSE: 22.311\n"
     ]
    }
   ],
   "source": [
    "from pandas import Series\n",
    "from sklearn.metrics import mean_squared_error\n",
    "from statsmodels.tsa.arima_model import ARIMA\n",
    "from math import sqrt\n",
    "# load data\n",
    "series = Series.from_csv('dataset.csv')\n",
    "# prepare data\n",
    "X = series.values\n",
    "X = X.astype('float32')\n",
    "train_size = int(len(X) * 0.50)\n",
    "train, test = X[0:train_size], X[train_size:]\n",
    "# walk-forward validation\n",
    "history = [x for x in train]\n",
    "predictions = list()\n",
    "for i in range(len(test)):\n",
    "    # predict\n",
    "    model = ARIMA(history, order=(0,1,0))\n",
    "    model_fit = model.fit(disp=0)\n",
    "    yhat = model_fit.forecast()[0]\n",
    "    predictions.append(yhat)\n",
    "    # observation\n",
    "    obs = test[i]\n",
    "    history.append(obs)\n",
    "    print('>Predicted=%.3f, Expected=%3.f' % (yhat, obs))\n",
    "# report performance\n",
    "mse = mean_squared_error(test, predictions)\n",
    "rmse = sqrt(mse)\n",
    "print('RMSE: %.3f' % rmse)"
   ]
  },
  {
   "cell_type": "markdown",
   "metadata": {},
   "source": [
    "Running this example results in an RMSE of 22.311, which is slightly higher than the persistence model above.\n",
    "\n",
    "This may be because of the details of the ARIMA implementation, such as an automatic trend constant that is calculated and added."
   ]
  },
  {
   "cell_type": "markdown",
   "metadata": {},
   "source": [
    "## 6.2 Grid Search ARIMA Hyperparameters\n",
    "The ACF and PACF plots suggest that we cannot do better than a persistence model on this dataset.\n",
    "\n",
    "To confirm this analysis, we can grid search a suite of ARIMA hyperparameters and check that no models result in better out of sample RMSE performance.\n",
    "\n",
    "In this section, we will search values of p, d, and q for combinations (skipping those that fail to converge), and find the combination that results in the best performance. We will use a grid search to explore all combinations in a subset of integer values.\n",
    "\n",
    "Specifically, we will search all combinations of the following parameters:\n",
    "\n",
    "- p: 0 to 4.\n",
    "- d: 0 to 2.\n",
    "- q: 0 to 4.\n",
    "\n",
    "This is (5 * 3 * 5), or 300 potential runs of the test harness, and will take some time to execute.\n",
    "\n",
    "We will also disable the automatic addition of a trend constant from the model by setting the ‘trend‘ argument to ‘nc‘ for no constant when calling fit().\n",
    "\n",
    "The complete worked example with the grid search version of the test harness is listed below."
   ]
  },
  {
   "cell_type": "code",
   "execution_count": 13,
   "metadata": {},
   "outputs": [
    {
     "name": "stdout",
     "output_type": "stream",
     "text": [
      "ARIMA(0, 0, 1) RMSE=282.656\n",
      "ARIMA(0, 0, 4) RMSE=77.294\n",
      "ARIMA(0, 1, 1) RMSE=21.907\n",
      "ARIMA(0, 1, 2) RMSE=22.182\n",
      "ARIMA(0, 1, 3) RMSE=24.733\n",
      "ARIMA(0, 1, 4) RMSE=24.845\n",
      "ARIMA(0, 2, 1) RMSE=22.381\n",
      "ARIMA(0, 2, 2) RMSE=22.244\n",
      "ARIMA(1, 0, 0) RMSE=22.007\n",
      "ARIMA(1, 1, 0) RMSE=21.922\n",
      "ARIMA(1, 2, 0) RMSE=27.464\n",
      "ARIMA(1, 2, 1) RMSE=22.271\n",
      "ARIMA(2, 1, 0) RMSE=21.733\n",
      "ARIMA(2, 2, 0) RMSE=25.282\n",
      "ARIMA(3, 1, 0) RMSE=24.270\n",
      "ARIMA(3, 1, 1) RMSE=25.491\n",
      "ARIMA(3, 2, 0) RMSE=25.625\n",
      "ARIMA(3, 2, 1) RMSE=25.008\n",
      "ARIMA(4, 1, 0) RMSE=24.802\n",
      "ARIMA(4, 1, 1) RMSE=25.103\n",
      "ARIMA(4, 2, 0) RMSE=27.089\n",
      "ARIMA(4, 2, 1) RMSE=25.932\n",
      "ARIMA(4, 2, 2) RMSE=25.417\n",
      "Best ARIMA(2, 1, 0) RMSE=21.733\n"
     ]
    }
   ],
   "source": [
    "import warnings\n",
    "from pandas import Series\n",
    "from statsmodels.tsa.arima_model import ARIMA\n",
    "from sklearn.metrics import mean_squared_error\n",
    "from math import sqrt\n",
    "\n",
    "# evaluate an ARIMA model for a given order (p,d,q) and return RMSE\n",
    "def evaluate_arima_model(X, arima_order):\n",
    "    # prepare training dataset\n",
    "    X = X.astype('float32')\n",
    "    train_size = int(len(X) * 0.50)\n",
    "    train, test = X[0:train_size], X[train_size:]\n",
    "    history = [x for x in train]\n",
    "    # make predictions\n",
    "    predictions = list()\n",
    "    for t in range(len(test)):\n",
    "        model = ARIMA(history, order=arima_order)\n",
    "        # model_fit = model.fit(disp=0)\n",
    "        model_fit = model.fit(trend='nc', disp=0)\n",
    "        yhat = model_fit.forecast()[0]\n",
    "        predictions.append(yhat)\n",
    "        history.append(test[t])\n",
    "    # calculate out of sample error\n",
    "    mse = mean_squared_error(test, predictions)\n",
    "    rmse = sqrt(mse)\n",
    "    return rmse\n",
    "\n",
    "# evaluate combinations of p, d and q values for an ARIMA model\n",
    "def evaluate_models(dataset, p_values, d_values, q_values):\n",
    "    dataset = dataset.astype('float32')\n",
    "    best_score, best_cfg = float(\"inf\"), None\n",
    "    for p in p_values:\n",
    "        for d in d_values:\n",
    "            for q in q_values:\n",
    "                order = (p,d,q)\n",
    "                try:\n",
    "                    mse = evaluate_arima_model(dataset, order)\n",
    "                    if mse < best_score:\n",
    "                        best_score, best_cfg = mse, order\n",
    "                    print('ARIMA%s RMSE=%.3f' % (order,mse))\n",
    "                except:\n",
    "                    continue\n",
    "    print('Best ARIMA%s RMSE=%.3f' % (best_cfg, best_score))\n",
    "\n",
    "# load dataset\n",
    "series = Series.from_csv('dataset.csv')\n",
    "# evaluate parameters\n",
    "p_values = range(0, 5)\n",
    "d_values = range(0, 3)\n",
    "q_values = range(0, 5)\n",
    "warnings.filterwarnings(\"ignore\")\n",
    "evaluate_models(series.values, p_values, d_values, q_values)"
   ]
  },
  {
   "cell_type": "markdown",
   "metadata": {},
   "source": [
    "Running the example runs through all combinations and reports the results on those that converge without error. The example takes a little over 2 minutes to run on modern hardware.\n",
    "\n",
    "The results show that the best configuration discovered was ARIMA(2, 1, 0) with an RMSE of 21.733, slightly lower than the manual persistence model tested earlier, but may or may not be significantly different.\n",
    "\n",
    "We will select this ARIMA(2, 1, 0) model going forward."
   ]
  },
  {
   "cell_type": "markdown",
   "metadata": {},
   "source": [
    "## 6.3 Review Residual Errors\n",
    "\n",
    "A good final check of a model is to review residual forecast errors.\n",
    "\n",
    "Ideally, the distribution of residual errors should be a Gaussian with a zero mean.\n",
    "\n",
    "We can check this by using summary statistics and plots to investigate the residual errors from the ARIMA(2, 1, 0) model. The example below calculates and summarizes the residual forecast errors."
   ]
  },
  {
   "cell_type": "code",
   "execution_count": 14,
   "metadata": {},
   "outputs": [
    {
     "name": "stdout",
     "output_type": "stream",
     "text": [
      "               0\n",
      "count  35.000000\n",
      "mean    1.081624\n",
      "std    22.022566\n",
      "min   -52.103812\n",
      "25%   -16.202284\n",
      "50%    -0.459805\n",
      "75%    12.085091\n",
      "max    51.284339\n"
     ]
    },
    {
     "data": {
      "image/png": "[encoded data removed]",
      "text/plain": [
       "<Figure size 432x288 with 2 Axes>"
      ]
     },
     "metadata": {},
     "output_type": "display_data"
    }
   ],
   "source": [
    "from pandas import Series\n",
    "from pandas import DataFrame\n",
    "from sklearn.metrics import mean_squared_error\n",
    "from statsmodels.tsa.arima_model import ARIMA\n",
    "from math import sqrt\n",
    "from matplotlib import pyplot\n",
    "# load data\n",
    "series = Series.from_csv('dataset.csv')\n",
    "# prepare data\n",
    "X = series.values\n",
    "X = X.astype('float32')\n",
    "train_size = int(len(X) * 0.50)\n",
    "train, test = X[0:train_size], X[train_size:]\n",
    "# walk-forward validation\n",
    "history = [x for x in train]\n",
    "predictions = list()\n",
    "for i in range(len(test)):\n",
    "    # predict\n",
    "    model = ARIMA(history, order=(2,1,0))\n",
    "    model_fit = model.fit(trend='nc', disp=0)\n",
    "    yhat = model_fit.forecast()[0]\n",
    "    predictions.append(yhat)\n",
    "    # observation\n",
    "    obs = test[i]\n",
    "    history.append(obs)\n",
    "# errors\n",
    "residuals = [test[i]-predictions[i] for i in range(len(test))]\n",
    "residuals = DataFrame(residuals)\n",
    "print(residuals.describe())\n",
    "pyplot.figure()\n",
    "pyplot.subplot(211)\n",
    "residuals.hist(ax=pyplot.gca())\n",
    "pyplot.subplot(212)\n",
    "residuals.plot(kind='kde', ax=pyplot.gca())\n",
    "pyplot.show()"
   ]
  },
  {
   "cell_type": "markdown",
   "metadata": {},
   "source": [
    "Running the example first describes the distribution of the residuals.\n",
    "\n",
    "We can see that the distribution has a right shift and that the mean is non-zero at 1.081624.\n",
    "\n",
    "This is perhaps a sign that the predictions are biased.\n",
    "\n",
    "The distribution of residual errors is also plotted.\n",
    "\n",
    "The graphs suggest a Gaussian-like distribution with a longer right tail, providing further evidence that perhaps a power transform might be worth exploring.\n",
    "\n",
    "We could use this information to bias-correct predictions by adding the mean residual error of 1.081624 to each forecast made.\n",
    "\n",
    "The example below performs this bias-correction."
   ]
  },
  {
   "cell_type": "code",
   "execution_count": 15,
   "metadata": {},
   "outputs": [
    {
     "name": "stdout",
     "output_type": "stream",
     "text": [
      "RMSE: 21.706\n",
      "                  0\n",
      "count  3.500000e+01\n",
      "mean  -2.247664e-08\n",
      "std    2.202257e+01\n",
      "min   -5.318544e+01\n",
      "25%   -1.728391e+01\n",
      "50%   -1.541429e+00\n",
      "75%    1.100347e+01\n",
      "max    5.020272e+01\n"
     ]
    },
    {
     "data": {
      "image/png": "[encoded data removed]",
      "text/plain": [
       "<Figure size 432x288 with 2 Axes>"
      ]
     },
     "metadata": {},
     "output_type": "display_data"
    }
   ],
   "source": [
    "from pandas import Series\n",
    "from pandas import DataFrame\n",
    "from sklearn.metrics import mean_squared_error\n",
    "from statsmodels.tsa.arima_model import ARIMA\n",
    "from math import sqrt\n",
    "from matplotlib import pyplot\n",
    "# load data\n",
    "series = Series.from_csv('dataset.csv')\n",
    "# prepare data\n",
    "X = series.values\n",
    "X = X.astype('float32')\n",
    "train_size = int(len(X) * 0.50)\n",
    "train, test = X[0:train_size], X[train_size:]\n",
    "# walk-forward validation\n",
    "history = [x for x in train]\n",
    "predictions = list()\n",
    "bias = 1.081624\n",
    "for i in range(len(test)):\n",
    "    # predict\n",
    "    model = ARIMA(history, order=(2,1,0))\n",
    "    model_fit = model.fit(trend='nc', disp=0)\n",
    "    yhat = bias + float(model_fit.forecast()[0])\n",
    "    predictions.append(yhat)\n",
    "    # observation\n",
    "    obs = test[i]\n",
    "    history.append(obs)\n",
    "# report performance\n",
    "mse = mean_squared_error(test, predictions)\n",
    "rmse = sqrt(mse)\n",
    "print('RMSE: %.3f' % rmse)\n",
    "# summarise residual errors\n",
    "residuals = [test[i]-predictions[i] for i in range(len(test))]\n",
    "residuals = DataFrame(residuals)\n",
    "print(residuals.describe())\n",
    "# plot residual errors\n",
    "pyplot.figure()\n",
    "pyplot.subplot(211)\n",
    "residuals.hist(ax=pyplot.gca())\n",
    "pyplot.subplot(212)\n",
    "residuals.plot(kind='kde', ax=pyplot.gca())\n",
    "pyplot.show()"
   ]
  },
  {
   "cell_type": "markdown",
   "metadata": {},
   "source": [
    "The performance of the predictions is improved very slightly from 21.733 to 21.706, which may or may not be significant.\n",
    "\n",
    "The summary of the forecast residual errors shows that the mean was indeed moved to a value very close to zero.\n",
    "\n",
    "Finally, density plots of the residual error do show a small shift towards zero.\n",
    "\n",
    "It is debatable whether this bias correction is worth it, but we will use it for now."
   ]
  },
  {
   "cell_type": "markdown",
   "metadata": {},
   "source": [
    "# 7. Model Validation\n",
    "\n",
    "After models have been developed and a final model selected, it must be validated and finalized.\n",
    "\n",
    "Validation is an optional part of the process, but one that provides a ‘last check’ to ensure we have not fooled or misled ourselves.\n",
    "\n",
    "This section includes the following steps:\n",
    "\n",
    "- Finalize Model: Train and save the final model.\n",
    "- Make Prediction: Load the finalized model and make a prediction.\n",
    "- Validate Model: Load and validate the final model."
   ]
  },
  {
   "cell_type": "markdown",
   "metadata": {},
   "source": [
    "## 7.1 Finalize Model\n",
    "\n",
    "Finalizing the model involves fitting an ARIMA model on the entire dataset, in this case, on a transformed version of the entire dataset.\n",
    "\n",
    "Once fit, the model can be saved to file for later use.\n",
    "\n",
    "The example below trains an ARIMA(2,1,0) model on the dataset and saves the whole fit object and the bias to file.\n",
    "\n"
   ]
  },
  {
   "cell_type": "code",
   "execution_count": 16,
   "metadata": {},
   "outputs": [],
   "source": [
    "from pandas import Series\n",
    "from statsmodels.tsa.arima_model import ARIMA\n",
    "from scipy.stats import boxcox\n",
    "import numpy\n",
    "\n",
    "# load data\n",
    "series = Series.from_csv('dataset.csv')\n",
    "# prepare data\n",
    "X = series.values\n",
    "X = X.astype('float32')\n",
    "# fit model\n",
    "model = ARIMA(X, order=(2,1,0))\n",
    "model_fit = model.fit(trend='nc', disp=0)\n",
    "# bias constant, could be calculated from in-sample mean residual\n",
    "bias = 1.081624\n",
    "# save model\n",
    "model_fit.save('model.pkl')\n",
    "numpy.save('model_bias.npy', [bias])"
   ]
  },
  {
   "cell_type": "markdown",
   "metadata": {},
   "source": [
    "Running the example creates two local files:\n",
    "\n",
    "- model.pkl This is the ARIMAResult object from the call to ARIMA.fit(). This includes the coefficients and all other internal data returned when fitting the model.\n",
    "- model_bias.npy This is the bias value stored as a one-row, one-column NumPy array.\n"
   ]
  },
  {
   "cell_type": "markdown",
   "metadata": {},
   "source": [
    "## 7.2 Make Prediction\n",
    "A natural case may be to load the model and make a single forecast.\n",
    "\n",
    "This is relatively straightforward and involves restoring the saved model and the bias and calling the forecast() function.\n",
    "\n",
    "The example below loads the model, makes a prediction for the next time step, and prints the prediction."
   ]
  },
  {
   "cell_type": "code",
   "execution_count": 17,
   "metadata": {},
   "outputs": [
    {
     "name": "stdout",
     "output_type": "stream",
     "text": [
      "Predicted: 540.013\n"
     ]
    }
   ],
   "source": [
    "from pandas import Series\n",
    "from statsmodels.tsa.arima_model import ARIMAResults\n",
    "import numpy\n",
    "model_fit = ARIMAResults.load('model.pkl')\n",
    "bias = numpy.load('model_bias.npy')\n",
    "yhat = bias + float(model_fit.forecast()[0])\n",
    "print('Predicted: %.3f' % yhat)"
   ]
  },
  {
   "cell_type": "markdown",
   "metadata": {},
   "source": [
    "Running the example prints the prediction of about 540.\n",
    "\n",
    "If we peek inside validation.csv, we can see that the value on the first row for the next time period is 568. The prediction is in the right ballpark."
   ]
  },
  {
   "cell_type": "markdown",
   "metadata": {},
   "source": [
    "## 7.3 Validate Model\n",
    "We can load the model and use it in a pretend operational manner.\n",
    "\n",
    "In the test harness section, we saved the final 10 years of the original dataset in a separate file to validate the final model.\n",
    "\n",
    "We can load this validation.csv file now and use it to see how well our model really is on “unseen” data.\n",
    "\n",
    "There are two ways we might proceed:\n",
    "\n",
    "- Load the model and use it to forecast the next 10 years. The forecast beyond the first one or two years will quickly start to degrade in skill.\n",
    "- Load the model and use it in a rolling-forecast manner, updating the transform and model for each time step. This is the preferred method as it is how one would use this model in practice as it would achieve the best performance.\n",
    "\n",
    "As with model evaluation in the previous sections, we will make predictions in a rolling-forecast manner. This means that we will step over lead times in the validation dataset and take the observations as an update to the history."
   ]
  },
  {
   "cell_type": "code",
   "execution_count": 18,
   "metadata": {},
   "outputs": [
    {
     "name": "stdout",
     "output_type": "stream",
     "text": [
      ">Predicted=540.013, Expected=568\n",
      ">Predicted=571.589, Expected=575\n",
      ">Predicted=573.289, Expected=579\n",
      ">Predicted=579.561, Expected=587\n",
      ">Predicted=588.063, Expected=602\n",
      ">Predicted=603.022, Expected=594\n",
      ">Predicted=593.178, Expected=587\n",
      ">Predicted=588.558, Expected=587\n",
      ">Predicted=588.797, Expected=625\n",
      ">Predicted=627.941, Expected=613\n",
      "RMSE: 16.532\n"
     ]
    },
    {
     "data": {
      "image/png": "[encoded data removed]",
      "text/plain": [
       "<Figure size 432x288 with 1 Axes>"
      ]
     },
     "metadata": {},
     "output_type": "display_data"
    }
   ],
   "source": [
    "from pandas import Series\n",
    "from matplotlib import pyplot\n",
    "from statsmodels.tsa.arima_model import ARIMA\n",
    "from statsmodels.tsa.arima_model import ARIMAResults\n",
    "from sklearn.metrics import mean_squared_error\n",
    "from math import sqrt\n",
    "import numpy\n",
    "# load and prepare datasets\n",
    "dataset = Series.from_csv('dataset.csv')\n",
    "X = dataset.values.astype('float32')\n",
    "history = [x for x in X]\n",
    "validation = Series.from_csv('validation.csv')\n",
    "y = validation.values.astype('float32')\n",
    "# load model\n",
    "model_fit = ARIMAResults.load('model.pkl')\n",
    "bias = numpy.load('model_bias.npy')\n",
    "# make first prediction\n",
    "predictions = list()\n",
    "yhat = bias + float(model_fit.forecast()[0])\n",
    "predictions.append(yhat)\n",
    "history.append(y[0])\n",
    "print('>Predicted=%.3f, Expected=%3.f' % (yhat, y[0]))\n",
    "# rolling forecasts\n",
    "for i in range(1, len(y)):\n",
    "    # predict\n",
    "    model = ARIMA(history, order=(2,1,0))\n",
    "    model_fit = model.fit(trend='nc', disp=0)\n",
    "    yhat = bias + float(model_fit.forecast()[0])\n",
    "    predictions.append(yhat)\n",
    "    # observation\n",
    "    obs = y[i]\n",
    "    history.append(obs)\n",
    "    print('>Predicted=%.3f, Expected=%3.f' % (yhat, obs))\n",
    "# report performance\n",
    "mse = mean_squared_error(y, predictions)\n",
    "rmse = sqrt(mse)\n",
    "print('RMSE: %.3f' % rmse)\n",
    "pyplot.plot(y)\n",
    "pyplot.plot(predictions, color='red')\n",
    "pyplot.show()"
   ]
  },
  {
   "cell_type": "markdown",
   "metadata": {},
   "source": [
    "Running the example prints each prediction and expected value for the time steps in the validation dataset.\n",
    "\n",
    "The final RMSE for the validation period is predicted at 16 liters per capita per day. This is not too different from the expected error of 21, but I would expect that it is also not too different from a simple persistence model.\n",
    "\n",
    "A plot of the predictions compared to the validation dataset is also provided.\n",
    "\n",
    "The forecast does have the characteristics of a persistence forecast. This suggests that although this time series does have an obvious trend, it is still a reasonably difficult problem."
   ]
  },
  {
   "cell_type": "markdown",
   "metadata": {},
   "source": [
    "# Summary\n",
    "\n",
    "In this tutorial, you discovered the steps and the tools for a time series forecasting project with Python.\n",
    "\n",
    "We covered a lot of ground in this tutorial; specifically:\n",
    "\n",
    "- How to develop a test harness with a performance measure and evaluation method and how to quickly develop a baseline forecast and skill.\n",
    "- How to use time series analysis to raise ideas for how to best model the forecast problem.\n",
    "- How to develop an ARIMA model, save it, and later load it to make predictions on new data.\n"
   ]
  },
  {
   "cell_type": "code",
   "execution_count": null,
   "metadata": {},
   "outputs": [],
   "source": []
  },
  {
   "cell_type": "code",
   "execution_count": null,
   "metadata": {},
   "outputs": [],
   "source": []
  },
  {
   "cell_type": "code",
   "execution_count": null,
   "metadata": {},
   "outputs": [],
   "source": []
  }
 ],
 "metadata": {
  "kernelspec": {
   "display_name": "Python 3",
   "language": "python",
   "name": "python3"
  },
  "language_info": {
   "codemirror_mode": {
    "name": "ipython",
    "version": 3
   },
   "file_extension": ".py",
   "mimetype": "text/x-python",
   "name": "python",
   "nbconvert_exporter": "python",
   "pygments_lexer": "ipython3",
   "version": "3.5.2"
  }
 },
 "nbformat": 4,
 "nbformat_minor": 2
}
